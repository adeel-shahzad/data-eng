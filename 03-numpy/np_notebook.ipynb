{
 "cells": [
  {
   "cell_type": "code",
   "execution_count": 2,
   "id": "b90329f2",
   "metadata": {},
   "outputs": [],
   "source": [
    "import numpy as np"
   ]
  },
  {
   "cell_type": "markdown",
   "id": "a2a7231b",
   "metadata": {},
   "source": [
    "### N-dimensional array - also known as ndarray in NumPy"
   ]
  },
  {
   "cell_type": "code",
   "execution_count": 6,
   "id": "7605fa71",
   "metadata": {},
   "outputs": [],
   "source": [
    "np_arr = np.array([\n",
    "                    [1, 2, 3],\n",
    "                    [4, 5, 6]\n",
    "                ])"
   ]
  },
  {
   "cell_type": "markdown",
   "id": "cd445f8f",
   "metadata": {},
   "source": [
    "### dtype is metadata and stores the data type"
   ]
  },
  {
   "cell_type": "code",
   "execution_count": 9,
   "id": "11a227ff",
   "metadata": {},
   "outputs": [
    {
     "data": {
      "text/plain": [
       "dtype('int64')"
      ]
     },
     "execution_count": 9,
     "metadata": {},
     "output_type": "execute_result"
    }
   ],
   "source": [
    "np_arr.dtype"
   ]
  },
  {
   "cell_type": "markdown",
   "id": "1dce90a3",
   "metadata": {},
   "source": [
    "### Shape tell how many rows and cols"
   ]
  },
  {
   "cell_type": "code",
   "execution_count": 8,
   "id": "05d1d661",
   "metadata": {},
   "outputs": [
    {
     "data": {
      "text/plain": [
       "(2, 3)"
      ]
     },
     "execution_count": 8,
     "metadata": {},
     "output_type": "execute_result"
    }
   ],
   "source": [
    "np_arr.shape"
   ]
  },
  {
   "cell_type": "markdown",
   "id": "11dddb10",
   "metadata": {},
   "source": [
    "### ndim will tell the rows a.k.a. dimensions"
   ]
  },
  {
   "cell_type": "code",
   "execution_count": 10,
   "id": "def743d6",
   "metadata": {},
   "outputs": [
    {
     "data": {
      "text/plain": [
       "2"
      ]
     },
     "execution_count": 10,
     "metadata": {},
     "output_type": "execute_result"
    }
   ],
   "source": [
    "np_arr.ndim"
   ]
  },
  {
   "cell_type": "markdown",
   "id": "144d7732",
   "metadata": {},
   "source": [
    "### 1. ndarray initialization techniques - Single Dimensional Array"
   ]
  },
  {
   "cell_type": "code",
   "execution_count": 20,
   "id": "4732ca19",
   "metadata": {},
   "outputs": [
    {
     "data": {
      "text/plain": [
       "array([1.7, 2. , 3. , 4. , 5. ])"
      ]
     },
     "execution_count": 20,
     "metadata": {},
     "output_type": "execute_result"
    }
   ],
   "source": [
    "# init numpy array with array() by a sequence (list, tuple)\n",
    "list_arr = [1.7, 2, 3, 4, 5]\n",
    "np_arr_1d = np.array(list_arr)\n",
    "np_arr_1d"
   ]
  },
  {
   "cell_type": "markdown",
   "id": "a357b40f",
   "metadata": {},
   "source": [
    "### Next check the shape which gives us a tuple and in this case it is 1-D array with 5 elements"
   ]
  },
  {
   "cell_type": "code",
   "execution_count": 21,
   "id": "3ab2f510",
   "metadata": {},
   "outputs": [
    {
     "data": {
      "text/plain": [
       "(5,)"
      ]
     },
     "execution_count": 21,
     "metadata": {},
     "output_type": "execute_result"
    }
   ],
   "source": [
    "np_arr_1d.shape # the output tells is that length of array is 5"
   ]
  },
  {
   "cell_type": "markdown",
   "id": "0ce0433f",
   "metadata": {},
   "source": [
    "### Let's check the data type of ndarray"
   ]
  },
  {
   "cell_type": "code",
   "execution_count": 22,
   "id": "4891e448",
   "metadata": {},
   "outputs": [
    {
     "data": {
      "text/plain": [
       "dtype('float64')"
      ]
     },
     "execution_count": 22,
     "metadata": {},
     "output_type": "execute_result"
    }
   ],
   "source": [
    "np_arr_1d.dtype"
   ]
  },
  {
   "cell_type": "markdown",
   "id": "b0d7be69",
   "metadata": {},
   "source": [
    "### 2. ndarray initialization techniques - Double Dimensional Array"
   ]
  },
  {
   "cell_type": "code",
   "execution_count": 13,
   "id": "490fea18",
   "metadata": {},
   "outputs": [
    {
     "data": {
      "text/plain": [
       "array([[1, 2, 3],\n",
       "       [4, 5, 6]])"
      ]
     },
     "execution_count": 13,
     "metadata": {},
     "output_type": "execute_result"
    }
   ],
   "source": [
    "data_2d = [\n",
    "    [1, 2, 3],\n",
    "    [4, 5, 6]\n",
    "]\n",
    "np_arr_2d = np.array(data_2d)\n",
    "np_arr_2d"
   ]
  },
  {
   "cell_type": "code",
   "execution_count": null,
   "id": "45ae8c32",
   "metadata": {},
   "outputs": [
    {
     "data": {
      "text/plain": [
       "(2, 3)"
      ]
     },
     "execution_count": 28,
     "metadata": {},
     "output_type": "execute_result"
    }
   ],
   "source": [
    "np_arr_2d.shape # the output tells us that it is a 2-D array with 2 rows and 3 columns"
   ]
  },
  {
   "cell_type": "code",
   "execution_count": null,
   "id": "9155a417",
   "metadata": {},
   "outputs": [
    {
     "data": {
      "text/plain": [
       "2"
      ]
     },
     "execution_count": 29,
     "metadata": {},
     "output_type": "execute_result"
    }
   ],
   "source": [
    "np_arr_2d.ndim # the output tells us that it is a 2-D array"
   ]
  },
  {
   "cell_type": "code",
   "execution_count": 31,
   "id": "fd92cc5d",
   "metadata": {},
   "outputs": [
    {
     "data": {
      "text/plain": [
       "dtype('int64')"
      ]
     },
     "execution_count": 31,
     "metadata": {},
     "output_type": "execute_result"
    }
   ],
   "source": [
    "np_arr_2d.dtype"
   ]
  },
  {
   "cell_type": "markdown",
   "id": "51ffedae",
   "metadata": {},
   "source": [
    "### 3. Init with Zeros"
   ]
  },
  {
   "cell_type": "code",
   "execution_count": 33,
   "id": "6e573fba",
   "metadata": {},
   "outputs": [
    {
     "data": {
      "text/plain": [
       "array([0., 0., 0., 0., 0., 0., 0., 0., 0., 0.])"
      ]
     },
     "execution_count": 33,
     "metadata": {},
     "output_type": "execute_result"
    }
   ],
   "source": [
    "arr_zeros = np.zeros(10)\n",
    "arr_zeros"
   ]
  },
  {
   "cell_type": "code",
   "execution_count": 34,
   "id": "b2f601ee",
   "metadata": {},
   "outputs": [
    {
     "data": {
      "text/plain": [
       "array([[0., 0., 0., 0.],\n",
       "       [0., 0., 0., 0.],\n",
       "       [0., 0., 0., 0.]])"
      ]
     },
     "execution_count": 34,
     "metadata": {},
     "output_type": "execute_result"
    }
   ],
   "source": [
    "arr_zeros = np.zeros((3, 4)) # 3 rows and 4 columns\n",
    "arr_zeros "
   ]
  },
  {
   "cell_type": "markdown",
   "id": "07f74520",
   "metadata": {},
   "source": [
    "### 4. Empty array with given dimensions"
   ]
  },
  {
   "cell_type": "code",
   "execution_count": 40,
   "id": "50de56ea",
   "metadata": {},
   "outputs": [
    {
     "data": {
      "text/plain": [
       "array([[[0., 0., 0.],\n",
       "        [0., 0., 0.],\n",
       "        [0., 0., 0.],\n",
       "        [0., 0., 0.]],\n",
       "\n",
       "       [[0., 0., 0.],\n",
       "        [0., 0., 0.],\n",
       "        [0., 0., 0.],\n",
       "        [0., 0., 0.]]])"
      ]
     },
     "execution_count": 40,
     "metadata": {},
     "output_type": "execute_result"
    }
   ],
   "source": [
    "arr_empty = np.empty((2, 4, 3)) # 2 rows and 3 columns\n",
    "arr_empty"
   ]
  },
  {
   "cell_type": "markdown",
   "id": "c09e7bfd",
   "metadata": {},
   "source": [
    "### arange is a method to define size of ndarray"
   ]
  },
  {
   "cell_type": "code",
   "execution_count": 9,
   "id": "4a90eaf8",
   "metadata": {},
   "outputs": [
    {
     "data": {
      "text/plain": [
       "array([ 0,  1,  2,  3,  4,  5,  6,  7,  8,  9, 10, 11, 12, 13, 14])"
      ]
     },
     "execution_count": 9,
     "metadata": {},
     "output_type": "execute_result"
    }
   ],
   "source": [
    "arr_3 = np.arange(15)\n",
    "arr_3"
   ]
  },
  {
   "cell_type": "markdown",
   "id": "8137c123",
   "metadata": {},
   "source": [
    "### asarray method"
   ]
  },
  {
   "cell_type": "code",
   "execution_count": null,
   "id": "64b17f24",
   "metadata": {},
   "outputs": [
    {
     "data": {
      "text/plain": [
       "False"
      ]
     },
     "execution_count": 11,
     "metadata": {},
     "output_type": "execute_result"
    }
   ],
   "source": [
    "from_list_asarray = np.asarray(list_arr)\n",
    "from_list_asarray\n",
    "from_list_asarray is list_arr"
   ]
  },
  {
   "cell_type": "code",
   "execution_count": 19,
   "id": "c366d648",
   "metadata": {},
   "outputs": [
    {
     "data": {
      "text/plain": [
       "dtype('int64')"
      ]
     },
     "execution_count": 19,
     "metadata": {},
     "output_type": "execute_result"
    }
   ],
   "source": [
    "from_ndarray_asarray = np.asarray(np_arr_2d)\n",
    "from_ndarray_asarray.dtype\n",
    "# from_ndarray_asarray is np_arr_2d"
   ]
  },
  {
   "cell_type": "markdown",
   "id": "1d28f295",
   "metadata": {},
   "source": [
    "### ones_like creates same array with all 1s and shape/dtype same as input array"
   ]
  },
  {
   "cell_type": "code",
   "execution_count": 18,
   "id": "4cc59b0f",
   "metadata": {},
   "outputs": [
    {
     "data": {
      "text/plain": [
       "dtype('int64')"
      ]
     },
     "execution_count": 18,
     "metadata": {},
     "output_type": "execute_result"
    }
   ],
   "source": [
    "arr_from_ones_like = np.ones_like(from_ndarray_asarray)\n",
    "arr_from_ones_like.dtype"
   ]
  },
  {
   "cell_type": "code",
   "execution_count": 23,
   "id": "f3dde8ee",
   "metadata": {},
   "outputs": [
    {
     "data": {
      "text/plain": [
       "array([0., 0., 0., 0., 0.])"
      ]
     },
     "execution_count": 23,
     "metadata": {},
     "output_type": "execute_result"
    }
   ],
   "source": [
    "arr_zeros_like = np.zeros_like(np_arr_1d)\n",
    "arr_zeros_like"
   ]
  },
  {
   "cell_type": "markdown",
   "id": "4e792427",
   "metadata": {},
   "source": [
    "### astype - when float array typecasted to int then the decimal part is truncated"
   ]
  },
  {
   "cell_type": "code",
   "execution_count": 3,
   "id": "9e5be21b",
   "metadata": {},
   "outputs": [
    {
     "data": {
      "text/plain": [
       "array([3, 5, 1, 9], dtype=int32)"
      ]
     },
     "execution_count": 3,
     "metadata": {},
     "output_type": "execute_result"
    }
   ],
   "source": [
    "arr_4 = np.array([3.3, 5.3, 1, 9.43])\n",
    "arr_4 = arr_4.astype(np.int32) # convert to int32\n",
    "arr_4"
   ]
  },
  {
   "cell_type": "markdown",
   "id": "414e4500",
   "metadata": {},
   "source": [
    "### astype - when the typecasting not possible we get ValueError"
   ]
  },
  {
   "cell_type": "code",
   "execution_count": 4,
   "id": "061aae53",
   "metadata": {},
   "outputs": [
    {
     "ename": "ValueError",
     "evalue": "could not convert string to float: 'Pakistan'",
     "output_type": "error",
     "traceback": [
      "\u001b[0;31m---------------------------------------------------------------------------\u001b[0m",
      "\u001b[0;31mValueError\u001b[0m                                Traceback (most recent call last)",
      "Cell \u001b[0;32mIn[4], line 2\u001b[0m\n\u001b[1;32m      1\u001b[0m arr_str \u001b[38;5;241m=\u001b[39m np\u001b[38;5;241m.\u001b[39marray([\u001b[38;5;124m\"\u001b[39m\u001b[38;5;124mPakistan\u001b[39m\u001b[38;5;124m\"\u001b[39m, \u001b[38;5;124m\"\u001b[39m\u001b[38;5;124mis\u001b[39m\u001b[38;5;124m\"\u001b[39m, \u001b[38;5;124m'\u001b[39m\u001b[38;5;124mGreat!\u001b[39m\u001b[38;5;124m'\u001b[39m])\n\u001b[0;32m----> 2\u001b[0m \u001b[43marr_str\u001b[49m\u001b[38;5;241;43m.\u001b[39;49m\u001b[43mastype\u001b[49m\u001b[43m(\u001b[49m\u001b[43mnp\u001b[49m\u001b[38;5;241;43m.\u001b[39;49m\u001b[43mfloat64\u001b[49m\u001b[43m)\u001b[49m \u001b[38;5;66;03m# this will raise ValueError because string cannot be converted to int\u001b[39;00m\n",
      "\u001b[0;31mValueError\u001b[0m: could not convert string to float: 'Pakistan'"
     ]
    }
   ],
   "source": [
    "arr_str = np.array([\"Pakistan\", \"is\", 'Great!'])\n",
    "arr_str.astype(np.float64) # this will raise ValueError because string cannot be converted to int"
   ]
  },
  {
   "cell_type": "code",
   "execution_count": null,
   "id": "88e163c0",
   "metadata": {},
   "outputs": [],
   "source": []
  }
 ],
 "metadata": {
  "kernelspec": {
   "display_name": "3.10.13",
   "language": "python",
   "name": "python3"
  },
  "language_info": {
   "codemirror_mode": {
    "name": "ipython",
    "version": 3
   },
   "file_extension": ".py",
   "mimetype": "text/x-python",
   "name": "python",
   "nbconvert_exporter": "python",
   "pygments_lexer": "ipython3",
   "version": "3.10.13"
  }
 },
 "nbformat": 4,
 "nbformat_minor": 5
}
