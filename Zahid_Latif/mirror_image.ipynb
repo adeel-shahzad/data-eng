{
 "cells": [
  {
   "cell_type": "markdown",
   "id": "67cb863b",
   "metadata": {},
   "source": [
    "### Install and import libraries"
   ]
  },
  {
   "cell_type": "code",
   "execution_count": 1,
   "id": "cc592838",
   "metadata": {},
   "outputs": [
    {
     "name": "stdout",
     "output_type": "stream",
     "text": [
      "Requirement already satisfied: pillow in /Users/mac/.pyenv/versions/3.10.13/lib/python3.10/site-packages (9.5.0)\n",
      "\n",
      "\u001b[1m[\u001b[0m\u001b[34;49mnotice\u001b[0m\u001b[1;39;49m]\u001b[0m\u001b[39;49m A new release of pip is available: \u001b[0m\u001b[31;49m23.0.1\u001b[0m\u001b[39;49m -> \u001b[0m\u001b[32;49m25.2\u001b[0m\n",
      "\u001b[1m[\u001b[0m\u001b[34;49mnotice\u001b[0m\u001b[1;39;49m]\u001b[0m\u001b[39;49m To update, run: \u001b[0m\u001b[32;49mpip install --upgrade pip\u001b[0m\n",
      "Note: you may need to restart the kernel to use updated packages.\n"
     ]
    }
   ],
   "source": [
    "pip install pillow"
   ]
  },
  {
   "cell_type": "markdown",
   "id": "766e8e0f",
   "metadata": {},
   "source": []
  },
  {
   "cell_type": "code",
   "execution_count": 2,
   "id": "38e7c317",
   "metadata": {},
   "outputs": [],
   "source": [
    "from PIL import Image"
   ]
  },
  {
   "cell_type": "markdown",
   "id": "b5a7332f",
   "metadata": {},
   "source": [
    "### Open an image"
   ]
  },
  {
   "cell_type": "code",
   "execution_count": 10,
   "id": "fa79a6a7",
   "metadata": {},
   "outputs": [],
   "source": [
    "img = Image.open(\"lateef_family_img.jpeg\")"
   ]
  },
  {
   "cell_type": "markdown",
   "id": "369a9aa0",
   "metadata": {},
   "source": [
    "### Horizontal mirror (left-right flip)"
   ]
  },
  {
   "cell_type": "code",
   "execution_count": 11,
   "id": "0e4575f9",
   "metadata": {},
   "outputs": [],
   "source": [
    "mirror_img = img.transpose(Image.FLIP_LEFT_RIGHT)\n",
    "mirror_img.save(\"lateef_family_mirror_horizontal.jpg\")"
   ]
  },
  {
   "cell_type": "code",
   "execution_count": 12,
   "id": "85e67bb6",
   "metadata": {},
   "outputs": [],
   "source": [
    "mirror_img.show()"
   ]
  },
  {
   "cell_type": "markdown",
   "id": "e30defc6",
   "metadata": {},
   "source": [
    "### Vertical mirror (top-bottom flip)"
   ]
  },
  {
   "cell_type": "code",
   "execution_count": null,
   "id": "f3f7beeb",
   "metadata": {},
   "outputs": [],
   "source": [
    "upside_down = img.transpose(Image.FLIP_TOP_BOTTOM)\n",
    "upside_down.save(\"lateef_family_mirror_vertical.jpg\")"
   ]
  },
  {
   "cell_type": "code",
   "execution_count": 8,
   "id": "184d1d38",
   "metadata": {},
   "outputs": [],
   "source": [
    "upside_down.show()"
   ]
  },
  {
   "cell_type": "code",
   "execution_count": null,
   "id": "3fe3693a",
   "metadata": {},
   "outputs": [],
   "source": []
  }
 ],
 "metadata": {
  "kernelspec": {
   "display_name": "3.10.13",
   "language": "python",
   "name": "python3"
  },
  "language_info": {
   "codemirror_mode": {
    "name": "ipython",
    "version": 3
   },
   "file_extension": ".py",
   "mimetype": "text/x-python",
   "name": "python",
   "nbconvert_exporter": "python",
   "pygments_lexer": "ipython3",
   "version": "3.10.13"
  }
 },
 "nbformat": 4,
 "nbformat_minor": 5
}
