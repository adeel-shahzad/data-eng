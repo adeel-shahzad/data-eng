{
 "cells": [
  {
   "cell_type": "markdown",
   "id": "4019d134",
   "metadata": {},
   "source": [
    "### 1. How to add single comment in Python?"
   ]
  },
  {
   "cell_type": "code",
   "execution_count": 5,
   "id": "e125dbf7",
   "metadata": {},
   "outputs": [],
   "source": [
    "# This is how you add a single line comment in Python.\n",
    "# i.e. by using a hash symbol (#) at the beginning of the line."
   ]
  },
  {
   "cell_type": "markdown",
   "id": "e85f6291",
   "metadata": {},
   "source": [
    "### 2. Python Strings - How to add multi-line Strings in Python?"
   ]
  },
  {
   "cell_type": "code",
   "execution_count": 11,
   "id": "bad1f112",
   "metadata": {},
   "outputs": [
    {
     "data": {
      "text/plain": [
       "'I am trying to teach how to create multi-line strings.\\nYou can do this by using triple quotes (\"\"\" or \\'\\'\\').'"
      ]
     },
     "execution_count": 11,
     "metadata": {},
     "output_type": "execute_result"
    }
   ],
   "source": [
    "\"\"\"I am trying to teach how to create multi-line strings.\n",
    "You can do this by using triple quotes (\\\"\\\"\\\" or ''').\"\"\""
   ]
  },
  {
   "cell_type": "markdown",
   "id": "56eba6bb",
   "metadata": {},
   "source": [
    "### 2.1 Python Strings - Same thing used in print()"
   ]
  },
  {
   "cell_type": "code",
   "execution_count": 13,
   "id": "a4e4422f",
   "metadata": {},
   "outputs": [
    {
     "name": "stdout",
     "output_type": "stream",
     "text": [
      "I am trying to teach how to create multi-line strings.\n",
      "You can do this by using triple quotes (\"\"\" or ''').\n"
     ]
    }
   ],
   "source": [
    "print(\n",
    "    \"\"\"I am trying to teach how to create multi-line strings.\n",
    "You can do this by using triple quotes (\\\"\\\"\\\" or ''').\"\"\"\n",
    ")"
   ]
  },
  {
   "cell_type": "markdown",
   "id": "95eac7be",
   "metadata": {},
   "source": [
    "### 2.2 Strings can be added / concatenated"
   ]
  },
  {
   "cell_type": "code",
   "execution_count": 44,
   "id": "fa6cd2f7",
   "metadata": {},
   "outputs": [
    {
     "data": {
      "text/plain": [
       "'Hello World!'"
      ]
     },
     "execution_count": 44,
     "metadata": {},
     "output_type": "execute_result"
    }
   ],
   "source": [
    "'Hello' + ' ' + \"World!\""
   ]
  },
  {
   "cell_type": "code",
   "execution_count": 46,
   "id": "18634af5",
   "metadata": {},
   "outputs": [
    {
     "data": {
      "text/plain": [
       "'Hello World!'"
      ]
     },
     "execution_count": 46,
     "metadata": {},
     "output_type": "execute_result"
    }
   ],
   "source": [
    "\"Hello \" \"World!\" # Implicit concatenation of string literals without using + operator."
   ]
  },
  {
   "cell_type": "markdown",
   "id": "7d03a340",
   "metadata": {},
   "source": [
    "### 3. Primitives and Operators"
   ]
  },
  {
   "cell_type": "code",
   "execution_count": 15,
   "id": "950a2b6e",
   "metadata": {},
   "outputs": [
    {
     "data": {
      "text/plain": [
       "78"
      ]
     },
     "execution_count": 15,
     "metadata": {},
     "output_type": "execute_result"
    }
   ],
   "source": [
    "78"
   ]
  },
  {
   "cell_type": "code",
   "execution_count": 16,
   "id": "b6a68ac8",
   "metadata": {},
   "outputs": [
    {
     "data": {
      "text/plain": [
       "7"
      ]
     },
     "execution_count": 16,
     "metadata": {},
     "output_type": "execute_result"
    }
   ],
   "source": [
    "4+3"
   ]
  },
  {
   "cell_type": "code",
   "execution_count": 19,
   "id": "89dcb673",
   "metadata": {},
   "outputs": [
    {
     "data": {
      "text/plain": [
       "5"
      ]
     },
     "execution_count": 19,
     "metadata": {},
     "output_type": "execute_result"
    }
   ],
   "source": [
    "6-1"
   ]
  },
  {
   "cell_type": "code",
   "execution_count": null,
   "id": "4adadc79",
   "metadata": {},
   "outputs": [
    {
     "data": {
      "text/plain": [
       "15.0"
      ]
     },
     "execution_count": 22,
     "metadata": {},
     "output_type": "execute_result"
    }
   ],
   "source": [
    "5 * 3"
   ]
  },
  {
   "cell_type": "markdown",
   "id": "777103d3",
   "metadata": {},
   "source": [
    "### 3.1 Below is precisely known as True Division (which always returns float)"
   ]
  },
  {
   "cell_type": "code",
   "execution_count": 20,
   "id": "ec457ab0",
   "metadata": {},
   "outputs": [
    {
     "data": {
      "text/plain": [
       "5.0"
      ]
     },
     "execution_count": 20,
     "metadata": {},
     "output_type": "execute_result"
    }
   ],
   "source": [
    "45 / 9 # Division will always return a float"
   ]
  },
  {
   "cell_type": "markdown",
   "id": "93e17044",
   "metadata": {},
   "source": [
    "### 3.2 Floor Division and the operator is //\n",
    "#### May return float or int, depending on the operands"
   ]
  },
  {
   "cell_type": "code",
   "execution_count": 23,
   "id": "ffd593f8",
   "metadata": {},
   "outputs": [
    {
     "data": {
      "text/plain": [
       "1"
      ]
     },
     "execution_count": 23,
     "metadata": {},
     "output_type": "execute_result"
    }
   ],
   "source": [
    "5 // 3 # Floor Division discards the fractional part"
   ]
  },
  {
   "cell_type": "code",
   "execution_count": 24,
   "id": "9b975125",
   "metadata": {},
   "outputs": [
    {
     "data": {
      "text/plain": [
       "-2"
      ]
     },
     "execution_count": 24,
     "metadata": {},
     "output_type": "execute_result"
    }
   ],
   "source": [
    "-5 // 3"
   ]
  },
  {
   "cell_type": "code",
   "execution_count": 25,
   "id": "06ad68a6",
   "metadata": {},
   "outputs": [
    {
     "data": {
      "text/plain": [
       "1.0"
      ]
     },
     "execution_count": 25,
     "metadata": {},
     "output_type": "execute_result"
    }
   ],
   "source": [
    "5.0 // 3.0"
   ]
  },
  {
   "cell_type": "markdown",
   "id": "61a5ca9d",
   "metadata": {},
   "source": [
    "### 3.3 Modulo operator i.e. %"
   ]
  },
  {
   "cell_type": "code",
   "execution_count": 27,
   "id": "71d95c55",
   "metadata": {},
   "outputs": [
    {
     "data": {
      "text/plain": [
       "2"
      ]
     },
     "execution_count": 27,
     "metadata": {},
     "output_type": "execute_result"
    }
   ],
   "source": [
    "8 % 3 # 6 - 8"
   ]
  },
  {
   "cell_type": "code",
   "execution_count": 28,
   "id": "8f3a199f",
   "metadata": {},
   "outputs": [
    {
     "data": {
      "text/plain": [
       "1"
      ]
     },
     "execution_count": 28,
     "metadata": {},
     "output_type": "execute_result"
    }
   ],
   "source": [
    "10 % 3 # 9 - 10"
   ]
  },
  {
   "cell_type": "markdown",
   "id": "1d218c89",
   "metadata": {},
   "source": [
    "### 3.4 Exponentiation **"
   ]
  },
  {
   "cell_type": "code",
   "execution_count": 29,
   "id": "50dc8f0b",
   "metadata": {},
   "outputs": [
    {
     "data": {
      "text/plain": [
       "9"
      ]
     },
     "execution_count": 29,
     "metadata": {},
     "output_type": "execute_result"
    }
   ],
   "source": [
    "3**2"
   ]
  },
  {
   "cell_type": "code",
   "execution_count": 30,
   "id": "7523767a",
   "metadata": {},
   "outputs": [
    {
     "data": {
      "text/plain": [
       "8"
      ]
     },
     "execution_count": 30,
     "metadata": {},
     "output_type": "execute_result"
    }
   ],
   "source": [
    "2**3"
   ]
  },
  {
   "cell_type": "markdown",
   "id": "885a74ed",
   "metadata": {},
   "source": [
    "### 3.5 Boolean"
   ]
  },
  {
   "cell_type": "code",
   "execution_count": 31,
   "id": "2a562d09",
   "metadata": {},
   "outputs": [
    {
     "data": {
      "text/plain": [
       "False"
      ]
     },
     "execution_count": 31,
     "metadata": {},
     "output_type": "execute_result"
    }
   ],
   "source": [
    "not True"
   ]
  },
  {
   "cell_type": "code",
   "execution_count": 32,
   "id": "75aef942",
   "metadata": {},
   "outputs": [
    {
     "data": {
      "text/plain": [
       "False"
      ]
     },
     "execution_count": 32,
     "metadata": {},
     "output_type": "execute_result"
    }
   ],
   "source": [
    "False"
   ]
  },
  {
   "cell_type": "code",
   "execution_count": 34,
   "id": "09a8e48f",
   "metadata": {},
   "outputs": [
    {
     "data": {
      "text/plain": [
       "7"
      ]
     },
     "execution_count": 34,
     "metadata": {},
     "output_type": "execute_result"
    }
   ],
   "source": [
    "8 - True # True is treated as 1 and False as 0; funny?"
   ]
  },
  {
   "cell_type": "markdown",
   "id": "317639a5",
   "metadata": {},
   "source": [
    "### 3.6 bool() - Used for checking Truthiness or Falsiness of the given operator"
   ]
  },
  {
   "cell_type": "code",
   "execution_count": null,
   "id": "6e6d5764",
   "metadata": {},
   "outputs": [
    {
     "name": "stdout",
     "output_type": "stream",
     "text": [
      "None is Falsy\n"
     ]
    }
   ],
   "source": [
    "if bool(None) == False:\n",
    "    print(\"None is Falsy\")"
   ]
  },
  {
   "cell_type": "code",
   "execution_count": 40,
   "id": "0ae23ae5",
   "metadata": {},
   "outputs": [
    {
     "data": {
      "text/plain": [
       "False"
      ]
     },
     "execution_count": 40,
     "metadata": {},
     "output_type": "execute_result"
    }
   ],
   "source": [
    "bool(set())"
   ]
  },
  {
   "cell_type": "code",
   "execution_count": 41,
   "id": "cb2762de",
   "metadata": {},
   "outputs": [
    {
     "data": {
      "text/plain": [
       "False"
      ]
     },
     "execution_count": 41,
     "metadata": {},
     "output_type": "execute_result"
    }
   ],
   "source": [
    "bool({})"
   ]
  },
  {
   "cell_type": "code",
   "execution_count": 42,
   "id": "a89ec8dc",
   "metadata": {},
   "outputs": [
    {
     "data": {
      "text/plain": [
       "False"
      ]
     },
     "execution_count": 42,
     "metadata": {},
     "output_type": "execute_result"
    }
   ],
   "source": [
    "bool([])"
   ]
  },
  {
   "cell_type": "code",
   "execution_count": 43,
   "id": "1ac705c2",
   "metadata": {},
   "outputs": [
    {
     "data": {
      "text/plain": [
       "False"
      ]
     },
     "execution_count": 43,
     "metadata": {},
     "output_type": "execute_result"
    }
   ],
   "source": [
    "bool(tuple())"
   ]
  },
  {
   "cell_type": "markdown",
   "id": "9ce59845",
   "metadata": {},
   "source": [
    "### 3.7 `is` operator is used to check both variables belong to same memory location or not"
   ]
  },
  {
   "cell_type": "code",
   "execution_count": null,
   "id": "8aa2d4ca",
   "metadata": {},
   "outputs": [],
   "source": []
  }
 ],
 "metadata": {
  "kernelspec": {
   "display_name": "3.10.13",
   "language": "python",
   "name": "python3"
  },
  "language_info": {
   "codemirror_mode": {
    "name": "ipython",
    "version": 3
   },
   "file_extension": ".py",
   "mimetype": "text/x-python",
   "name": "python",
   "nbconvert_exporter": "python",
   "pygments_lexer": "ipython3",
   "version": "3.10.13"
  }
 },
 "nbformat": 4,
 "nbformat_minor": 5
}
