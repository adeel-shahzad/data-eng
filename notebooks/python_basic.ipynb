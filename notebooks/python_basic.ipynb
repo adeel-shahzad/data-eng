{
 "cells": [
  {
   "cell_type": "markdown",
   "id": "4019d134",
   "metadata": {},
   "source": [
    "### 1. How to add single comment in Python?"
   ]
  },
  {
   "cell_type": "code",
   "execution_count": 5,
   "id": "e125dbf7",
   "metadata": {},
   "outputs": [],
   "source": [
    "# This is how you add a single line comment in Python.\n",
    "# i.e. by using a hash symbol (#) at the beginning of the line."
   ]
  },
  {
   "cell_type": "markdown",
   "id": "e85f6291",
   "metadata": {},
   "source": [
    "### 2. Python Strings - How to add multi-line Strings in Python?"
   ]
  },
  {
   "cell_type": "code",
   "execution_count": 11,
   "id": "bad1f112",
   "metadata": {},
   "outputs": [
    {
     "data": {
      "text/plain": [
       "'I am trying to teach how to create multi-line strings.\\nYou can do this by using triple quotes (\"\"\" or \\'\\'\\').'"
      ]
     },
     "execution_count": 11,
     "metadata": {},
     "output_type": "execute_result"
    }
   ],
   "source": [
    "\"\"\"I am trying to teach how to create multi-line strings.\n",
    "You can do this by using triple quotes (\\\"\\\"\\\" or ''').\"\"\""
   ]
  },
  {
   "cell_type": "markdown",
   "id": "56eba6bb",
   "metadata": {},
   "source": [
    "### 2.1 Python Strings - Same thing used in print()"
   ]
  },
  {
   "cell_type": "code",
   "execution_count": 13,
   "id": "a4e4422f",
   "metadata": {},
   "outputs": [
    {
     "name": "stdout",
     "output_type": "stream",
     "text": [
      "I am trying to teach how to create multi-line strings.\n",
      "You can do this by using triple quotes (\"\"\" or ''').\n"
     ]
    }
   ],
   "source": [
    "print(\n",
    "    \"\"\"I am trying to teach how to create multi-line strings.\n",
    "You can do this by using triple quotes (\\\"\\\"\\\" or ''').\"\"\"\n",
    ")"
   ]
  },
  {
   "cell_type": "markdown",
   "id": "95eac7be",
   "metadata": {},
   "source": [
    "### 2.2 Strings can be added / concatenated"
   ]
  },
  {
   "cell_type": "code",
   "execution_count": 44,
   "id": "fa6cd2f7",
   "metadata": {},
   "outputs": [
    {
     "data": {
      "text/plain": [
       "'Hello World!'"
      ]
     },
     "execution_count": 44,
     "metadata": {},
     "output_type": "execute_result"
    }
   ],
   "source": [
    "'Hello' + ' ' + \"World!\""
   ]
  },
  {
   "cell_type": "code",
   "execution_count": 46,
   "id": "18634af5",
   "metadata": {},
   "outputs": [
    {
     "data": {
      "text/plain": [
       "'Hello World!'"
      ]
     },
     "execution_count": 46,
     "metadata": {},
     "output_type": "execute_result"
    }
   ],
   "source": [
    "\"Hello \" \"World!\" # Implicit concatenation of string literals without using + operator."
   ]
  },
  {
   "cell_type": "markdown",
   "id": "8b17e213",
   "metadata": {},
   "source": [
    "### 2.3 Find length of String using `len()`"
   ]
  },
  {
   "cell_type": "code",
   "execution_count": 54,
   "id": "49631c6d",
   "metadata": {},
   "outputs": [
    {
     "name": "stdout",
     "output_type": "stream",
     "text": [
      "Length of John is 4\n"
     ]
    }
   ],
   "source": [
    "name = \"John\"\n",
    "print(f\"Length of {name} is {len(name)}\") # Using f-string for formatted string literals."
   ]
  },
  {
   "cell_type": "markdown",
   "id": "7d03a340",
   "metadata": {},
   "source": [
    "### 3. Primitives and Operators"
   ]
  },
  {
   "cell_type": "code",
   "execution_count": 15,
   "id": "950a2b6e",
   "metadata": {},
   "outputs": [
    {
     "data": {
      "text/plain": [
       "78"
      ]
     },
     "execution_count": 15,
     "metadata": {},
     "output_type": "execute_result"
    }
   ],
   "source": [
    "78"
   ]
  },
  {
   "cell_type": "code",
   "execution_count": 16,
   "id": "b6a68ac8",
   "metadata": {},
   "outputs": [
    {
     "data": {
      "text/plain": [
       "7"
      ]
     },
     "execution_count": 16,
     "metadata": {},
     "output_type": "execute_result"
    }
   ],
   "source": [
    "4+3"
   ]
  },
  {
   "cell_type": "code",
   "execution_count": 19,
   "id": "89dcb673",
   "metadata": {},
   "outputs": [
    {
     "data": {
      "text/plain": [
       "5"
      ]
     },
     "execution_count": 19,
     "metadata": {},
     "output_type": "execute_result"
    }
   ],
   "source": [
    "6-1"
   ]
  },
  {
   "cell_type": "code",
   "execution_count": null,
   "id": "4adadc79",
   "metadata": {},
   "outputs": [
    {
     "data": {
      "text/plain": [
       "15.0"
      ]
     },
     "execution_count": 22,
     "metadata": {},
     "output_type": "execute_result"
    }
   ],
   "source": [
    "5 * 3"
   ]
  },
  {
   "cell_type": "markdown",
   "id": "777103d3",
   "metadata": {},
   "source": [
    "### 3.1 Below is precisely known as True Division (which always returns float)"
   ]
  },
  {
   "cell_type": "code",
   "execution_count": 20,
   "id": "ec457ab0",
   "metadata": {},
   "outputs": [
    {
     "data": {
      "text/plain": [
       "5.0"
      ]
     },
     "execution_count": 20,
     "metadata": {},
     "output_type": "execute_result"
    }
   ],
   "source": [
    "45 / 9 # Division will always return a float"
   ]
  },
  {
   "cell_type": "markdown",
   "id": "93e17044",
   "metadata": {},
   "source": [
    "### 3.2 Floor Division and the operator is //\n",
    "#### May return float or int, depending on the operands"
   ]
  },
  {
   "cell_type": "code",
   "execution_count": 23,
   "id": "ffd593f8",
   "metadata": {},
   "outputs": [
    {
     "data": {
      "text/plain": [
       "1"
      ]
     },
     "execution_count": 23,
     "metadata": {},
     "output_type": "execute_result"
    }
   ],
   "source": [
    "5 // 3 # Floor Division discards the fractional part"
   ]
  },
  {
   "cell_type": "code",
   "execution_count": 24,
   "id": "9b975125",
   "metadata": {},
   "outputs": [
    {
     "data": {
      "text/plain": [
       "-2"
      ]
     },
     "execution_count": 24,
     "metadata": {},
     "output_type": "execute_result"
    }
   ],
   "source": [
    "-5 // 3"
   ]
  },
  {
   "cell_type": "code",
   "execution_count": 25,
   "id": "06ad68a6",
   "metadata": {},
   "outputs": [
    {
     "data": {
      "text/plain": [
       "1.0"
      ]
     },
     "execution_count": 25,
     "metadata": {},
     "output_type": "execute_result"
    }
   ],
   "source": [
    "5.0 // 3.0"
   ]
  },
  {
   "cell_type": "markdown",
   "id": "61a5ca9d",
   "metadata": {},
   "source": [
    "### 3.3 Modulo operator i.e. %"
   ]
  },
  {
   "cell_type": "code",
   "execution_count": 27,
   "id": "71d95c55",
   "metadata": {},
   "outputs": [
    {
     "data": {
      "text/plain": [
       "2"
      ]
     },
     "execution_count": 27,
     "metadata": {},
     "output_type": "execute_result"
    }
   ],
   "source": [
    "8 % 3 # 6 - 8"
   ]
  },
  {
   "cell_type": "code",
   "execution_count": 28,
   "id": "8f3a199f",
   "metadata": {},
   "outputs": [
    {
     "data": {
      "text/plain": [
       "1"
      ]
     },
     "execution_count": 28,
     "metadata": {},
     "output_type": "execute_result"
    }
   ],
   "source": [
    "10 % 3 # 9 - 10"
   ]
  },
  {
   "cell_type": "markdown",
   "id": "1d218c89",
   "metadata": {},
   "source": [
    "### 3.4 Exponentiation **"
   ]
  },
  {
   "cell_type": "code",
   "execution_count": 29,
   "id": "50dc8f0b",
   "metadata": {},
   "outputs": [
    {
     "data": {
      "text/plain": [
       "9"
      ]
     },
     "execution_count": 29,
     "metadata": {},
     "output_type": "execute_result"
    }
   ],
   "source": [
    "3**2"
   ]
  },
  {
   "cell_type": "code",
   "execution_count": 30,
   "id": "7523767a",
   "metadata": {},
   "outputs": [
    {
     "data": {
      "text/plain": [
       "8"
      ]
     },
     "execution_count": 30,
     "metadata": {},
     "output_type": "execute_result"
    }
   ],
   "source": [
    "2**3"
   ]
  },
  {
   "cell_type": "markdown",
   "id": "885a74ed",
   "metadata": {},
   "source": [
    "### 3.5 Boolean"
   ]
  },
  {
   "cell_type": "code",
   "execution_count": 31,
   "id": "2a562d09",
   "metadata": {},
   "outputs": [
    {
     "data": {
      "text/plain": [
       "False"
      ]
     },
     "execution_count": 31,
     "metadata": {},
     "output_type": "execute_result"
    }
   ],
   "source": [
    "not True"
   ]
  },
  {
   "cell_type": "code",
   "execution_count": 32,
   "id": "75aef942",
   "metadata": {},
   "outputs": [
    {
     "data": {
      "text/plain": [
       "False"
      ]
     },
     "execution_count": 32,
     "metadata": {},
     "output_type": "execute_result"
    }
   ],
   "source": [
    "False"
   ]
  },
  {
   "cell_type": "code",
   "execution_count": 34,
   "id": "09a8e48f",
   "metadata": {},
   "outputs": [
    {
     "data": {
      "text/plain": [
       "7"
      ]
     },
     "execution_count": 34,
     "metadata": {},
     "output_type": "execute_result"
    }
   ],
   "source": [
    "8 - True # True is treated as 1 and False as 0; funny?"
   ]
  },
  {
   "cell_type": "markdown",
   "id": "317639a5",
   "metadata": {},
   "source": [
    "### 3.6 bool() - Used for checking Truthiness or Falsiness of the given operator"
   ]
  },
  {
   "cell_type": "code",
   "execution_count": null,
   "id": "6e6d5764",
   "metadata": {},
   "outputs": [
    {
     "name": "stdout",
     "output_type": "stream",
     "text": [
      "None is Falsy\n"
     ]
    }
   ],
   "source": [
    "if bool(None) == False:\n",
    "    print(\"None is Falsy\")"
   ]
  },
  {
   "cell_type": "code",
   "execution_count": 40,
   "id": "0ae23ae5",
   "metadata": {},
   "outputs": [
    {
     "data": {
      "text/plain": [
       "False"
      ]
     },
     "execution_count": 40,
     "metadata": {},
     "output_type": "execute_result"
    }
   ],
   "source": [
    "bool(set())"
   ]
  },
  {
   "cell_type": "code",
   "execution_count": 41,
   "id": "cb2762de",
   "metadata": {},
   "outputs": [
    {
     "data": {
      "text/plain": [
       "False"
      ]
     },
     "execution_count": 41,
     "metadata": {},
     "output_type": "execute_result"
    }
   ],
   "source": [
    "bool({})"
   ]
  },
  {
   "cell_type": "code",
   "execution_count": 42,
   "id": "a89ec8dc",
   "metadata": {},
   "outputs": [
    {
     "data": {
      "text/plain": [
       "False"
      ]
     },
     "execution_count": 42,
     "metadata": {},
     "output_type": "execute_result"
    }
   ],
   "source": [
    "bool([])"
   ]
  },
  {
   "cell_type": "code",
   "execution_count": 43,
   "id": "1ac705c2",
   "metadata": {},
   "outputs": [
    {
     "data": {
      "text/plain": [
       "False"
      ]
     },
     "execution_count": 43,
     "metadata": {},
     "output_type": "execute_result"
    }
   ],
   "source": [
    "bool(tuple())"
   ]
  },
  {
   "cell_type": "markdown",
   "id": "9ce59845",
   "metadata": {},
   "source": [
    "### 3.7 `is` operator is used to check both variables belong to same memory location or not"
   ]
  },
  {
   "cell_type": "code",
   "execution_count": 48,
   "id": "8aa2d4ca",
   "metadata": {},
   "outputs": [
    {
     "data": {
      "text/plain": [
       "True"
      ]
     },
     "execution_count": 48,
     "metadata": {},
     "output_type": "execute_result"
    }
   ],
   "source": [
    "a = 10\n",
    "b = a\n",
    "a is b # True because both a and b point to same memory location"
   ]
  },
  {
   "cell_type": "code",
   "execution_count": 49,
   "id": "b1b8cd88",
   "metadata": {},
   "outputs": [
    {
     "data": {
      "text/plain": [
       "False"
      ]
     },
     "execution_count": 49,
     "metadata": {},
     "output_type": "execute_result"
    }
   ],
   "source": [
    "l1 = [1, 2, 3]\n",
    "l2 = [1, 2, 3]\n",
    "l1 is l2 # False because both l1 and l2 point to different memory locations"
   ]
  },
  {
   "cell_type": "markdown",
   "id": "19c9d4a9",
   "metadata": {},
   "source": [
    "### 3.8 `==` used for checking the content equality"
   ]
  },
  {
   "cell_type": "code",
   "execution_count": 50,
   "id": "2e32195d",
   "metadata": {},
   "outputs": [
    {
     "data": {
      "text/plain": [
       "True"
      ]
     },
     "execution_count": 50,
     "metadata": {},
     "output_type": "execute_result"
    }
   ],
   "source": [
    "l1 == l2"
   ]
  },
  {
   "cell_type": "code",
   "execution_count": 53,
   "id": "de90c659",
   "metadata": {},
   "outputs": [
    {
     "data": {
      "text/plain": [
       "False"
      ]
     },
     "execution_count": 53,
     "metadata": {},
     "output_type": "execute_result"
    }
   ],
   "source": [
    "t1 = ('a', 'b')\n",
    "t2 = ('a', 1)\n",
    "t1 == t2"
   ]
  },
  {
   "cell_type": "markdown",
   "id": "5fe02203",
   "metadata": {},
   "source": [
    "### 3.9 Ternary operator for conditionality"
   ]
  },
  {
   "cell_type": "code",
   "execution_count": 56,
   "id": "25607088",
   "metadata": {},
   "outputs": [
    {
     "data": {
      "text/plain": [
       "2"
      ]
     },
     "execution_count": 56,
     "metadata": {},
     "output_type": "execute_result"
    }
   ],
   "source": [
    "2 if True else 3"
   ]
  },
  {
   "cell_type": "code",
   "execution_count": 57,
   "id": "9501ecad",
   "metadata": {},
   "outputs": [
    {
     "data": {
      "text/plain": [
       "'Shahzad'"
      ]
     },
     "execution_count": 57,
     "metadata": {},
     "output_type": "execute_result"
    }
   ],
   "source": [
    "\"Adeel\" if 0 > 1 else \"Shahzad\""
   ]
  },
  {
   "cell_type": "markdown",
   "id": "7e592393",
   "metadata": {},
   "source": [
    "### 4. List"
   ]
  },
  {
   "cell_type": "code",
   "execution_count": 58,
   "id": "3d189687",
   "metadata": {},
   "outputs": [],
   "source": [
    "li = [] # Empty list"
   ]
  },
  {
   "cell_type": "code",
   "execution_count": 59,
   "id": "b5ba03e1",
   "metadata": {},
   "outputs": [],
   "source": [
    "li_non_empty = [1, 2, 3] # Non-empty list"
   ]
  },
  {
   "cell_type": "code",
   "execution_count": 60,
   "id": "5c15e6f7",
   "metadata": {},
   "outputs": [
    {
     "data": {
      "text/plain": [
       "[4]"
      ]
     },
     "execution_count": 60,
     "metadata": {},
     "output_type": "execute_result"
    }
   ],
   "source": [
    "li.append(4) # Append 4 to the end of list\n",
    "li"
   ]
  },
  {
   "cell_type": "code",
   "execution_count": 62,
   "id": "b13d6bc2",
   "metadata": {},
   "outputs": [
    {
     "data": {
      "text/plain": [
       "[4, 5, 5, 6, 7]"
      ]
     },
     "execution_count": 62,
     "metadata": {},
     "output_type": "execute_result"
    }
   ],
   "source": [
    "li.append(5)\n",
    "li.append(6)\n",
    "li.append(7)\n",
    "li"
   ]
  },
  {
   "cell_type": "code",
   "execution_count": 63,
   "id": "5d221c71",
   "metadata": {},
   "outputs": [
    {
     "data": {
      "text/plain": [
       "7"
      ]
     },
     "execution_count": 63,
     "metadata": {},
     "output_type": "execute_result"
    }
   ],
   "source": [
    "li.pop() # Removes and returns the last item"
   ]
  },
  {
   "cell_type": "code",
   "execution_count": 64,
   "id": "55a2474e",
   "metadata": {},
   "outputs": [
    {
     "data": {
      "text/plain": [
       "[4, 5, 5, 6]"
      ]
     },
     "execution_count": 64,
     "metadata": {},
     "output_type": "execute_result"
    }
   ],
   "source": [
    "li"
   ]
  },
  {
   "cell_type": "code",
   "execution_count": null,
   "id": "b12e9da0",
   "metadata": {},
   "outputs": [
    {
     "data": {
      "text/plain": [
       "5"
      ]
     },
     "execution_count": 66,
     "metadata": {},
     "output_type": "execute_result"
    }
   ],
   "source": [
    "li[1] # Accessing element at index 1 (second element)"
   ]
  },
  {
   "cell_type": "code",
   "execution_count": null,
   "id": "1b1d3481",
   "metadata": {},
   "outputs": [
    {
     "data": {
      "text/plain": [
       "5"
      ]
     },
     "execution_count": 68,
     "metadata": {},
     "output_type": "execute_result"
    }
   ],
   "source": [
    "li[-2] # Accessing second last element"
   ]
  },
  {
   "cell_type": "markdown",
   "id": "7a2be3e4",
   "metadata": {},
   "source": [
    "### 4.1 Slice syntax for range in List"
   ]
  },
  {
   "cell_type": "code",
   "execution_count": 69,
   "id": "6b24c461",
   "metadata": {},
   "outputs": [
    {
     "data": {
      "text/plain": [
       "[5, 5, 6]"
      ]
     },
     "execution_count": 69,
     "metadata": {},
     "output_type": "execute_result"
    }
   ],
   "source": [
    "# Syntax for slicing a list\n",
    "# list[start:stop:step]\n",
    "\n",
    "li[1:4] # Elements from index 1 to 3 (4 is excluded)"
   ]
  },
  {
   "cell_type": "code",
   "execution_count": 70,
   "id": "3b46e966",
   "metadata": {},
   "outputs": [
    {
     "data": {
      "text/plain": [
       "[4, 5]"
      ]
     },
     "execution_count": 70,
     "metadata": {},
     "output_type": "execute_result"
    }
   ],
   "source": [
    "li[0:2] # Elements from index 0 to 1 (2 is excluded)"
   ]
  },
  {
   "cell_type": "code",
   "execution_count": 75,
   "id": "ee5ed8df",
   "metadata": {},
   "outputs": [
    {
     "data": {
      "text/plain": [
       "[5]"
      ]
     },
     "execution_count": 75,
     "metadata": {},
     "output_type": "execute_result"
    }
   ],
   "source": [
    "li[1:-2]"
   ]
  },
  {
   "cell_type": "code",
   "execution_count": 76,
   "id": "d83c924c",
   "metadata": {},
   "outputs": [
    {
     "data": {
      "text/plain": [
       "[4, 5, 5, 6]"
      ]
     },
     "execution_count": 76,
     "metadata": {},
     "output_type": "execute_result"
    }
   ],
   "source": [
    "li2 = li[:] # Creates a shallow copy of the list\n",
    "li2"
   ]
  },
  {
   "cell_type": "code",
   "execution_count": 77,
   "id": "c26135ea",
   "metadata": {},
   "outputs": [
    {
     "data": {
      "text/plain": [
       "False"
      ]
     },
     "execution_count": 77,
     "metadata": {},
     "output_type": "execute_result"
    }
   ],
   "source": [
    "li is li2"
   ]
  },
  {
   "cell_type": "code",
   "execution_count": 78,
   "id": "a1e294a9",
   "metadata": {},
   "outputs": [
    {
     "data": {
      "text/plain": [
       "True"
      ]
     },
     "execution_count": 78,
     "metadata": {},
     "output_type": "execute_result"
    }
   ],
   "source": [
    "li == li2"
   ]
  },
  {
   "cell_type": "code",
   "execution_count": 79,
   "id": "e6d7d7b6",
   "metadata": {},
   "outputs": [
    {
     "data": {
      "text/plain": [
       "[4, 5, 6]"
      ]
     },
     "execution_count": 79,
     "metadata": {},
     "output_type": "execute_result"
    }
   ],
   "source": [
    "del li[1] # Deletes element at index 1\n",
    "li"
   ]
  },
  {
   "cell_type": "code",
   "execution_count": 80,
   "id": "6a98f936",
   "metadata": {},
   "outputs": [
    {
     "data": {
      "text/plain": [
       "False"
      ]
     },
     "execution_count": 80,
     "metadata": {},
     "output_type": "execute_result"
    }
   ],
   "source": [
    "li == li2"
   ]
  },
  {
   "cell_type": "code",
   "execution_count": null,
   "id": "6a377db0",
   "metadata": {},
   "outputs": [
    {
     "data": {
      "text/plain": [
       "3"
      ]
     },
     "execution_count": 81,
     "metadata": {},
     "output_type": "execute_result"
    }
   ],
   "source": [
    "len(li) # Length of the list"
   ]
  },
  {
   "cell_type": "markdown",
   "id": "b6bbeca8",
   "metadata": {},
   "source": [
    "### 5. Tuple - Same as list but is immutable"
   ]
  },
  {
   "cell_type": "code",
   "execution_count": 88,
   "id": "d5df93dd",
   "metadata": {},
   "outputs": [
    {
     "data": {
      "text/plain": [
       "tuple"
      ]
     },
     "execution_count": 88,
     "metadata": {},
     "output_type": "execute_result"
    }
   ],
   "source": [
    "tup = (1, 2, 3) # Tuple\n",
    "type(tup)"
   ]
  },
  {
   "cell_type": "code",
   "execution_count": 90,
   "id": "af645774",
   "metadata": {},
   "outputs": [
    {
     "data": {
      "text/plain": [
       "3"
      ]
     },
     "execution_count": 90,
     "metadata": {},
     "output_type": "execute_result"
    }
   ],
   "source": [
    "len(tup) # Length of the tuple"
   ]
  },
  {
   "cell_type": "code",
   "execution_count": 92,
   "id": "665c70bc",
   "metadata": {},
   "outputs": [
    {
     "data": {
      "text/plain": [
       "(1, 2, 3, 4, 5, 6)"
      ]
     },
     "execution_count": 92,
     "metadata": {},
     "output_type": "execute_result"
    }
   ],
   "source": [
    "tup = tup + (4, 5, 6) # Concatenating tuples\n",
    "tup"
   ]
  },
  {
   "cell_type": "code",
   "execution_count": 93,
   "id": "6c8cded5",
   "metadata": {},
   "outputs": [
    {
     "data": {
      "text/plain": [
       "(1, 2, 3)"
      ]
     },
     "execution_count": 93,
     "metadata": {},
     "output_type": "execute_result"
    }
   ],
   "source": [
    "tup[:3] # First three elements of the tuple; tuples support slicing like lists and end index is excluded"
   ]
  },
  {
   "cell_type": "markdown",
   "id": "b7ebbb68",
   "metadata": {},
   "source": [
    "### 5.1 Tuple - Exercise 1: Find the existence of 4 and 5 in tuple"
   ]
  },
  {
   "cell_type": "code",
   "execution_count": 98,
   "id": "a91e1d29",
   "metadata": {},
   "outputs": [
    {
     "name": "stdout",
     "output_type": "stream",
     "text": [
      "4 and 5 both exist tuple\n"
     ]
    }
   ],
   "source": [
    "if 4 in tup and 5 in tup: # True because both 4 and 5 exists inside tuple\n",
    "    print(\"4 and 5 both exist tuple\")"
   ]
  },
  {
   "cell_type": "markdown",
   "id": "0a9acd01",
   "metadata": {},
   "source": [
    "### 5.2 Tuple - Exercise 2: Find the existence of 4 and 5 as a consecutive elements in tuple"
   ]
  },
  {
   "cell_type": "code",
   "execution_count": 104,
   "id": "8ed8d21d",
   "metadata": {},
   "outputs": [
    {
     "data": {
      "text/plain": [
       "True"
      ]
     },
     "execution_count": 104,
     "metadata": {},
     "output_type": "execute_result"
    }
   ],
   "source": [
    "def find_in_tuple_as_two(ele_1, ele_2) -> bool:\n",
    "    for i in range(len(tup) - 1):\n",
    "        if tup[i] == ele_1 and tup[i + 1] == ele_2:\n",
    "            return True\n",
    "    return False\n",
    "\n",
    "find_in_tuple_as_two(4, 5)"
   ]
  },
  {
   "cell_type": "code",
   "execution_count": 113,
   "id": "4540bc8c",
   "metadata": {},
   "outputs": [
    {
     "name": "stdout",
     "output_type": "stream",
     "text": [
      "(1, 3, 5)\n"
     ]
    }
   ],
   "source": [
    "# for i in range(len(tup)):\n",
    "#     print(tup[i])\n",
    "\n",
    "print(tup[ : len(tup) - 1 : 2])"
   ]
  },
  {
   "cell_type": "markdown",
   "id": "bc2337c0",
   "metadata": {},
   "source": [
    "### 6. Dictionary - For storing key/value pairs"
   ]
  },
  {
   "cell_type": "code",
   "execution_count": 114,
   "id": "f1fa7b02",
   "metadata": {},
   "outputs": [],
   "source": [
    "empty_dict = {} # Empty dictionary"
   ]
  },
  {
   "cell_type": "code",
   "execution_count": 115,
   "id": "c4c4748f",
   "metadata": {},
   "outputs": [],
   "source": [
    "filled_dict = {\"one\": 1, \"two\": 2, \"three\": 3}"
   ]
  },
  {
   "cell_type": "markdown",
   "id": "46a789f7",
   "metadata": {},
   "source": [
    "### 6.1 Dictionary - A Nuance: Keys for a dictionary should be immutable objects. It means that key of a dictionary can be string, float, int and tuple."
   ]
  },
  {
   "cell_type": "code",
   "execution_count": null,
   "id": "c30da6c1",
   "metadata": {},
   "outputs": [
    {
     "ename": "TypeError",
     "evalue": "unhashable type: 'list'",
     "output_type": "error",
     "traceback": [
      "\u001b[0;31m---------------------------------------------------------------------------\u001b[0m",
      "\u001b[0;31mTypeError\u001b[0m                                 Traceback (most recent call last)",
      "Cell \u001b[0;32mIn[116], line 1\u001b[0m\n\u001b[0;32m----> 1\u001b[0m dict_1 \u001b[38;5;241m=\u001b[39m {[\u001b[38;5;241m1\u001b[39m,\u001b[38;5;241m2\u001b[39m,\u001b[38;5;241m3\u001b[39m]: \u001b[38;5;124m\"\u001b[39m\u001b[38;5;124m1,2,3\u001b[39m\u001b[38;5;124m\"\u001b[39m}\n",
      "\u001b[0;31mTypeError\u001b[0m: unhashable type: 'list'"
     ]
    }
   ],
   "source": [
    "dict_1 = {[1,2,3]: \"1,2,3\"} # This will raise an error because list is mutable and cannot be used as a key in dictionary."
   ]
  },
  {
   "cell_type": "code",
   "execution_count": 118,
   "id": "5d5cd735",
   "metadata": {},
   "outputs": [
    {
     "data": {
      "text/plain": [
       "{(1, 2, 3): '1,2,3'}"
      ]
     },
     "execution_count": 118,
     "metadata": {},
     "output_type": "execute_result"
    }
   ],
   "source": [
    "dict_2 = {(1,2,3): \"1,2,3\"} # This is valid because tuple is immutable and can be used as a key in dictionary.\n",
    "dict_2"
   ]
  },
  {
   "cell_type": "code",
   "execution_count": null,
   "id": "7fb6b470",
   "metadata": {},
   "outputs": [],
   "source": []
  }
 ],
 "metadata": {
  "kernelspec": {
   "display_name": "3.10.13",
   "language": "python",
   "name": "python3"
  },
  "language_info": {
   "codemirror_mode": {
    "name": "ipython",
    "version": 3
   },
   "file_extension": ".py",
   "mimetype": "text/x-python",
   "name": "python",
   "nbconvert_exporter": "python",
   "pygments_lexer": "ipython3",
   "version": "3.10.13"
  }
 },
 "nbformat": 4,
 "nbformat_minor": 5
}
